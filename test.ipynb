{
 "cells": [
  {
   "cell_type": "markdown",
   "metadata": {},
   "source": [
    "# TEST DOCUMENT LENGTH"
   ]
  },
  {
   "cell_type": "code",
   "execution_count": null,
   "metadata": {},
   "outputs": [],
   "source": [
    "import os\n",
    "import constant\n",
    "\n",
    "count = 0\n",
    "for folder_path in os.listdir(constant.PASSAGE_FOLDER):\n",
    "    for filename in os.listdir(constant.PASSAGE_FOLDER + '/' + folder_path):\n",
    "        with open(constant.PASSAGE_FOLDER + '/' + folder_path+'/'+filename, 'r') as f:\n",
    "            length = len(f.read().split())\n",
    "            if length > constant.PASSAGE_LENGTH_LIMIT:\n",
    "                count += 1\n",
    "                print(filename, length)\n",
    "print(count)"
   ]
  },
  {
   "cell_type": "markdown",
   "metadata": {},
   "source": [
    "# TEST RETRIEVAL INDEX"
   ]
  },
  {
   "cell_type": "code",
   "execution_count": 12,
   "metadata": {},
   "outputs": [],
   "source": [
    "import constant\n",
    "import json\n",
    "from code.bm25 import BM25Gensim\n",
    "from code.loader import Document_Loader"
   ]
  },
  {
   "cell_type": "code",
   "execution_count": 2,
   "metadata": {},
   "outputs": [],
   "source": [
    "with open(constant.ROLE_PATH, \"r\") as f:\n",
    "    json_file = json.load(f)\n",
    "\n",
    "metadata = {role:[x for x in json_file.keys() if role in json_file[x]] for role in constant.ROLE_LIST}\n",
    "\n",
    "INDEX_PATHS = {key: constant.RETRIEVAL_INDEX_FOLDER + '/' + key for key in metadata.keys()}\n",
    "PASSAGE_PATHS = {key: [constant.PASSAGE_FOLDER + '/' + y for y in metadata[key]] for key in metadata.keys()}"
   ]
  },
  {
   "cell_type": "code",
   "execution_count": 3,
   "metadata": {},
   "outputs": [],
   "source": [
    "role = 'phd'"
   ]
  },
  {
   "cell_type": "code",
   "execution_count": 4,
   "metadata": {},
   "outputs": [],
   "source": [
    "index_path = INDEX_PATHS[role]"
   ]
  },
  {
   "cell_type": "code",
   "execution_count": 5,
   "metadata": {},
   "outputs": [],
   "source": [
    "passage_path = PASSAGE_PATHS[role]\n",
    "    \n",
    "document_loader = Document_Loader(passage_path)"
   ]
  },
  {
   "cell_type": "code",
   "execution_count": 6,
   "metadata": {},
   "outputs": [],
   "source": [
    "retriever = BM25Gensim()\n",
    "retriever.load_model(index_path)"
   ]
  },
  {
   "cell_type": "code",
   "execution_count": 7,
   "metadata": {},
   "outputs": [],
   "source": [
    "question = 'khi nào được hoàn học phí'"
   ]
  },
  {
   "cell_type": "code",
   "execution_count": 8,
   "metadata": {},
   "outputs": [],
   "source": [
    "index, scores = retriever.get_top_result(question)"
   ]
  },
  {
   "cell_type": "code",
   "execution_count": 9,
   "metadata": {},
   "outputs": [
    {
     "data": {
      "text/plain": [
       "[50, 24, 21, 23, 22, 48, 51, 47, 46, 29]"
      ]
     },
     "execution_count": 9,
     "metadata": {},
     "output_type": "execute_result"
    }
   ],
   "source": [
    "index"
   ]
  },
  {
   "cell_type": "code",
   "execution_count": 10,
   "metadata": {},
   "outputs": [
    {
     "data": {
      "text/plain": [
       "array([13.9244585, 11.64878  ,  9.4046335,  8.470511 ,  7.9964542,\n",
       "        7.8029094,  7.5318165,  7.390398 ,  7.3169146,  7.199531 ],\n",
       "      dtype=float32)"
      ]
     },
     "execution_count": 10,
     "metadata": {},
     "output_type": "execute_result"
    }
   ],
   "source": [
    "scores"
   ]
  },
  {
   "cell_type": "code",
   "execution_count": 14,
   "metadata": {},
   "outputs": [
    {
     "name": "stdout",
     "output_type": "stream",
     "text": [
      "QUY ĐỊNH CHUNG VỀ HỌC VỤ VÀ ĐÀO TẠO\n",
      "\n",
      "PHỤ LỤC 5. QUY ĐỊNH VỀ HOÀN TRẢ HỌC PHÍ\n",
      "2. Các trường hợp được hoàn trả học phí\n",
      "\n",
      "\n",
      "2.1. Trúng tuyển và nhập học\n",
      "Người học không nhập học hoặc đã bảo lưu kết quả trúng tuyển, được hoàn trả học phí. Thời điểm tối đa để làm thủ tục hoàn trả học phí là cuối học kỳ nhập học.\n",
      "Người học rút nhập học hoặc bị huỷ kết quả trúng tuyển hoặc huỷ nhập học hoặc không công nhận người học được hoàn trả học phí nếu thời điểm làm thủ tục hoàn trả dưới 04 tuần tính từ ngày bắt đầu học của đợt tuyển sinh.\n",
      "2.2. Thôi học, tạm dừng\n",
      "Người học thuộc các trường hợp sau được hoàn trả học phí nếu thời điểm làm thủ tục hoàn trả dưới 04 tuần tính từ ngày đầu học kỳ:\n",
      "-   Thôi học theo yêu cầu cá nhân từ học kỳ tính học phí;\n",
      "-   Bị buộc thôi học hoặc xoá tên, nhưng không phải là bị kỷ luật, từ học kỳ tính học phí;\n",
      "-   Tạm dừng học hoặc bị tạm dừng học từ học kỳ tính học phí, ngoại trừ học kỳ bị tạm dừng vì không thanh toán học phí.\n",
      "2.3. Tính lại học phí\n",
      "Người học huỷ đăng ký một số học phần đã đăng ký và làm giảm học phí cần thanh toán, nhà trường sẽ hoàn trả phần dư nếu thời gian huỷ đăng ký trong 02 tuần đầu học kỳ hoặc tối đa trong 06 tuần đầu học kỳ nếu có lý do chính đáng.\n",
      "Trường hợp người học đã nộp tạm ứng nhiều hơn học phí cần thanh toán, nhà trường sẽ hoàn lại phần dư. Thời hạn tối đa làm thủ tục hoàn phần dư học phí là 01 học kỳ tính từ học kỳ đã tạm ứng dư. Trường hợp đặc biệt sẽ do Hiệu trưởng quyết định.\n",
      "\n"
     ]
    }
   ],
   "source": [
    "print(document_loader.context[index[0]])"
   ]
  },
  {
   "cell_type": "code",
   "execution_count": null,
   "metadata": {},
   "outputs": [],
   "source": []
  }
 ],
 "metadata": {
  "kernelspec": {
   "display_name": "venv",
   "language": "python",
   "name": "python3"
  },
  "language_info": {
   "codemirror_mode": {
    "name": "ipython",
    "version": 3
   },
   "file_extension": ".py",
   "mimetype": "text/x-python",
   "name": "python",
   "nbconvert_exporter": "python",
   "pygments_lexer": "ipython3",
   "version": "3.10.12"
  },
  "orig_nbformat": 4
 },
 "nbformat": 4,
 "nbformat_minor": 2
}
